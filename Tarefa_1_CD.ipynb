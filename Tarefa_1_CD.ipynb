{
  "nbformat": 4,
  "nbformat_minor": 0,
  "metadata": {
    "colab": {
      "provenance": []
    },
    "kernelspec": {
      "name": "python3",
      "display_name": "Python 3"
    },
    "language_info": {
      "name": "python"
    }
  },
  "cells": [
    {
      "cell_type": "markdown",
      "source": [
        "#Estrutura curricular do TADS - 2023"
      ],
      "metadata": {
        "id": "6sFQ0SQ86qbh"
      }
    },
    {
      "cell_type": "markdown",
      "source": [
        "Dicionário"
      ],
      "metadata": {
        "id": "wD012JgG6zl_"
      }
    },
    {
      "cell_type": "code",
      "source": [
        "import pandas as pd"
      ],
      "metadata": {
        "id": "HVTVNRoZKc_M"
      },
      "execution_count": 6,
      "outputs": []
    },
    {
      "cell_type": "code",
      "source": [
        "estrutura_curricular = {'codigo': ['TAD0001','TAD0006','TAD0102','TAD0105','TAD0201','TAD0202','TAD0009','TAD0012','TAD0013','TAD0016',\n",
        "                                   'TAD0103','TAD0111','TAD0114','TAD0004','TAD0019','TAD0020','TAD0022','TAD0025','TAD0123','TAD0203',\n",
        "                                   'TAD0018','TAD0027','TAD0028','TAD0029','TAD0030','TAD0032','TAD0204','TAD0015','TAD0108','TAD0156',\n",
        "                                   'TAD0160','TAD0205','TAD0035','TAD0140','TAD0157' ],\n",
        "                        'nome': ['FUNDAMENTOS DA COMPUTACAO','SISTEMAS OPERACIONAIS','ALGORITMOS E PROGRAMAÇÃO','MATEMÁTICA APLICADA',\n",
        "                                 'RACIOCÍNIO LÓGICO','LEITURA E PRODUÇÃO DE TEXTOS','PROGRAMACAO ORIENTADA A OBJETOS',\n",
        "                                 'PROCESSO DE DESENVOLVIMENTO DE SOFTWARE','MATEMATICA APLICADA II','VERTENTES PRODUTIVAS NAS CIENCIAS AGRARIAS',\n",
        "                                 'BANCO DE DADOS','PROGRAMAÇÃO VISUAL E AUTORIA WEB','REDES DE COMPUTADORES','ANALISE E PROJETO ORIENTADO A OBJETOS',\n",
        "                                 'PROGRAMACAO WEB','ESTRUTURAS DE DADOS','ESTATISTICA APLICADA','INTELIGÊNCIA COMPUTACIONAL','SISTEMAS DIGITAIS',\n",
        "                                 'GESTÃO DE QUALIDADE DE SOFTWARE','PROCESSAMENTO DIGITAL DE IMAGENS','PROGRAMACAO PARA DISPOSITIVOS MOVEIS',\n",
        "                                 'PLANEJAMENTO E GERENCIA DE PROJETOS','ARQUITETURA DE SOFTWARE','MICROCONTROLADORES','METODOLOGIA DO TRABALHO CIENTIFICO',\n",
        "                                 'FUNDAMENTOS E TÉCNICAS EM CIÊNCIA DE DADOS','EMPREENDEDORISMO','CONTEXTO GEOGRÁFICO REGIONAL','PROJETOS APLICADOS I',\n",
        "                                 'SISTEMAS DISTRIBUÍDOS','TRABALHO DE CONCLUSÃO DE CURSO I','LEGISLACAO E ETICA EM TI','TRABALHO DE CONCLUSAO DE CURSO II',\n",
        "                                 'PROJETOS APLICADOS II'],\n",
        "                        'carga_horaria': ['60h','60h','90h','60h','45h','60h','60h','45h','60h','45h','60h','60h','45h','60h','60h','45h',\n",
        "                                          '60h','45h','45h','60h','60h','90h','45h','45h','60h','30h','60h','45h','30h','60h','30h','30h',\n",
        "                                          '45h','60h','60h'],\n",
        "                        'periodo': ['1','1','1','1','1','1','2','2','2','2','2','2','2','3','3','3','3','3','3','3','4','4','4','4','4','4','4',\n",
        "                                    '5','5','5','5','5','6','6','6']\n",
        "                        }\n"
      ],
      "metadata": {
        "id": "4P9T1_cW65q4"
      },
      "execution_count": 14,
      "outputs": []
    },
    {
      "cell_type": "markdown",
      "source": [
        "Dicionário de cada semestre com a lista de códigos das disciplinas do semestre"
      ],
      "metadata": {
        "id": "dV9wbMaSKTlO"
      }
    },
    {
      "cell_type": "code",
      "source": [
        "df = pd.DataFrame(data=estrutura_curricular)\n",
        "print(df)"
      ],
      "metadata": {
        "colab": {
          "base_uri": "https://localhost:8080/"
        },
        "id": "KTBrsy1sKxDB",
        "outputId": "845a3ae3-ec59-4c3a-d1b6-225f0b1fd64b"
      },
      "execution_count": 21,
      "outputs": [
        {
          "output_type": "stream",
          "name": "stdout",
          "text": [
            "     codigo                                        nome carga_horaria periodo\n",
            "0   TAD0001                   FUNDAMENTOS DA COMPUTACAO           60h       1\n",
            "1   TAD0006                       SISTEMAS OPERACIONAIS           60h       1\n",
            "2   TAD0102                    ALGORITMOS E PROGRAMAÇÃO           90h       1\n",
            "3   TAD0105                         MATEMÁTICA APLICADA           60h       1\n",
            "4   TAD0201                           RACIOCÍNIO LÓGICO           45h       1\n",
            "5   TAD0202                LEITURA E PRODUÇÃO DE TEXTOS           60h       1\n",
            "6   TAD0009             PROGRAMACAO ORIENTADA A OBJETOS           60h       2\n",
            "7   TAD0012     PROCESSO DE DESENVOLVIMENTO DE SOFTWARE           45h       2\n",
            "8   TAD0013                      MATEMATICA APLICADA II           60h       2\n",
            "9   TAD0016  VERTENTES PRODUTIVAS NAS CIENCIAS AGRARIAS           45h       2\n",
            "10  TAD0103                              BANCO DE DADOS           60h       2\n",
            "11  TAD0111            PROGRAMAÇÃO VISUAL E AUTORIA WEB           60h       2\n",
            "12  TAD0114                       REDES DE COMPUTADORES           45h       2\n",
            "13  TAD0004       ANALISE E PROJETO ORIENTADO A OBJETOS           60h       3\n",
            "14  TAD0019                             PROGRAMACAO WEB           60h       3\n",
            "15  TAD0020                         ESTRUTURAS DE DADOS           45h       3\n",
            "16  TAD0022                        ESTATISTICA APLICADA           60h       3\n",
            "17  TAD0025                  INTELIGÊNCIA COMPUTACIONAL           45h       3\n",
            "18  TAD0123                           SISTEMAS DIGITAIS           45h       3\n",
            "19  TAD0203             GESTÃO DE QUALIDADE DE SOFTWARE           60h       3\n",
            "20  TAD0018            PROCESSAMENTO DIGITAL DE IMAGENS           60h       4\n",
            "21  TAD0027        PROGRAMACAO PARA DISPOSITIVOS MOVEIS           90h       4\n",
            "22  TAD0028         PLANEJAMENTO E GERENCIA DE PROJETOS           45h       4\n",
            "23  TAD0029                     ARQUITETURA DE SOFTWARE           45h       4\n",
            "24  TAD0030                          MICROCONTROLADORES           60h       4\n",
            "25  TAD0032          METODOLOGIA DO TRABALHO CIENTIFICO           30h       4\n",
            "26  TAD0204  FUNDAMENTOS E TÉCNICAS EM CIÊNCIA DE DADOS           60h       4\n",
            "27  TAD0015                            EMPREENDEDORISMO           45h       5\n",
            "28  TAD0108                CONTEXTO GEOGRÁFICO REGIONAL           30h       5\n",
            "29  TAD0156                        PROJETOS APLICADOS I           60h       5\n",
            "30  TAD0160                       SISTEMAS DISTRIBUÍDOS           30h       5\n",
            "31  TAD0205            TRABALHO DE CONCLUSÃO DE CURSO I           30h       5\n",
            "32  TAD0035                    LEGISLACAO E ETICA EM TI           45h       6\n",
            "33  TAD0140           TRABALHO DE CONCLUSAO DE CURSO II           60h       6\n",
            "34  TAD0157                       PROJETOS APLICADOS II           60h       6\n"
          ]
        }
      ]
    },
    {
      "cell_type": "markdown",
      "source": [
        "Dicionário com o código de cada disciplina e a lista de códigos dos pré requisitos, se houver. Para as que não tem pré-requisito, basta não inserir no dicionário"
      ],
      "metadata": {
        "id": "i3xo5HsSRLWg"
      }
    },
    {
      "cell_type": "code",
      "source": [
        "pre_requisitos = {'TAD0009': ['TAD0102'], #PROGRAMACAO ORIENTADA A OBJETOS --> ALGORITMOS E PROGRAMAÇÃO\n",
        "                  'TAD0013': ['TAD0105'], #MATEMATICA APLICADA II --> MATEMÁTICA APLICADA\n",
        "                  'TAD0019': ['TAD0009'], #PROGRAMACAO WEB --> PROGRAMACAO ORIENTADA A OBJETOS\n",
        "                  'TAD0020': ['TAD0102'], #ESTRUTURAS DE DADOS --> ALGORITMOS E PROGRAMAÇÃO\n",
        "                  'TAD0025': ['TAD0102'], #INTELIGÊNCIA COMPUTACIONAL --> ALGORITMOS E PROGRAMAÇÃO\n",
        "                  'TAD0018': ['TAD0102'], #PROCESSAMENTO DIGITAL DE IMAGENS --> ALGORITMOS E PROGRAMAÇÃO\n",
        "                  'TAD0027': ['TAD0009'], #PROGRAMACAO PARA DISPOSITIVOS MOVEIS --> PROGRAMACAO ORIENTADA A OBJETOS\n",
        "                  'TAD0029': ['TAD0009, TAD0111, TAD0103'], #ARQUITETURA DE SOFTWARE --> PROGRAMACAO ORIENTADA A OBJETOS --> PROGRAMAÇÃO VISUAL E AUTORIA WEB --> BANCO DE DADOS\n",
        "                  'TAD0204': ['TAD0022, TAD0102'], #FUNDAMENTOS E TÉCNICAS EM CIÊNCIA DE DADOS --> ESTATISTICA APLICADA --> ALGORITMOS E PROGRAMAÇÃO\n",
        "                  'TAD0156': ['TAD0102,TAD0103,TAD0012'], #PROJETOS APLICADOS I --> ALGORITMOS E PROGRAMAÇÃO --> PROGRAMAÇÃO VISUAL E AUTORIA WEB --> PROCESSO DE DESENVOLVIMENTO DE SOFTWARE\n",
        "                  'TAD0160': ['TAD0114'], #SISTEMAS DISTRIBUÍDOS --> ALGORITMOS E PROGRAMAÇÃO\n",
        "                  'TAD0157': ['TAD0156, TAD0028'] #PROJETOS APLICADOS II --> PROJETOS APLICADOS I --> PLANEJAMENTO E GERENCIA DE PROJETOS\n",
        "                 }"
      ],
      "metadata": {
        "id": "ZtHmUgF_Rdf5"
      },
      "execution_count": 24,
      "outputs": []
    },
    {
      "cell_type": "code",
      "source": [
        "df = pd.DataFrame(data=pre_requisitos)\n",
        "pre_requisitos"
      ],
      "metadata": {
        "colab": {
          "base_uri": "https://localhost:8080/"
        },
        "id": "ZxvpYVMiWEX8",
        "outputId": "19b28660-071a-4e2b-c69d-97aaef9832fd"
      },
      "execution_count": 31,
      "outputs": [
        {
          "output_type": "execute_result",
          "data": {
            "text/plain": [
              "{'TAD0009': ['TAD0102'],\n",
              " 'TAD0013': ['TAD0105'],\n",
              " 'TAD0019': ['TAD0009'],\n",
              " 'TAD0020': ['TAD0102'],\n",
              " 'TAD0025': ['TAD0102'],\n",
              " 'TAD0018': ['TAD0102'],\n",
              " 'TAD0027': ['TAD0009'],\n",
              " 'TAD0029': ['TAD0009, TAD0111, TAD0103'],\n",
              " 'TAD0204': ['TAD0022, TAD0102'],\n",
              " 'TAD0156': ['TAD0102,TAD0103,TAD0012'],\n",
              " 'TAD0160': ['TAD0114'],\n",
              " 'TAD0157': ['TAD0156, TAD0028']}"
            ]
          },
          "metadata": {},
          "execution_count": 31
        }
      ]
    },
    {
      "cell_type": "code",
      "source": [
        "print(pre_requisitos)"
      ],
      "metadata": {
        "colab": {
          "base_uri": "https://localhost:8080/"
        },
        "id": "jjdQeOUrXnWp",
        "outputId": "9108c767-a002-4c87-ef41-77208e98afbc"
      },
      "execution_count": 32,
      "outputs": [
        {
          "output_type": "stream",
          "name": "stdout",
          "text": [
            "{'TAD0009': ['TAD0102'], 'TAD0013': ['TAD0105'], 'TAD0019': ['TAD0009'], 'TAD0020': ['TAD0102'], 'TAD0025': ['TAD0102'], 'TAD0018': ['TAD0102'], 'TAD0027': ['TAD0009'], 'TAD0029': ['TAD0009, TAD0111, TAD0103'], 'TAD0204': ['TAD0022, TAD0102'], 'TAD0156': ['TAD0102,TAD0103,TAD0012'], 'TAD0160': ['TAD0114'], 'TAD0157': ['TAD0156, TAD0028']}\n"
          ]
        }
      ]
    }
  ]
}